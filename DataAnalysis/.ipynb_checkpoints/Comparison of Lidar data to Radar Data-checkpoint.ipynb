{
 "cells": [
  {
   "cell_type": "markdown",
   "id": "ed7cded7",
   "metadata": {},
   "source": [
    "## Visualization of Lidar data with Radar Data"
   ]
  },
  {
   "cell_type": "markdown",
   "id": "89780241",
   "metadata": {},
   "source": [
    "### Importing necessary libraries"
   ]
  },
  {
   "cell_type": "code",
   "execution_count": 9,
   "id": "dc9dfbe9",
   "metadata": {},
   "outputs": [],
   "source": [
    "import pandas as pd\n",
    "import numpy as np\n",
    "import seaborn as sns\n",
    "import matplotlib.pyplot as plt\n",
    "%matplotlib qt\n",
    "from sklearn.cluster import KMeans\n",
    "import math as m"
   ]
  },
  {
   "cell_type": "markdown",
   "id": "d4e1b716",
   "metadata": {},
   "source": [
    "### Importing the Radar Data"
   ]
  },
  {
   "cell_type": "code",
   "execution_count": 10,
   "id": "6bf912f8",
   "metadata": {},
   "outputs": [
    {
     "name": "stdout",
     "output_type": "stream",
     "text": [
      "(2094, 3)\n"
     ]
    }
   ],
   "source": [
    "data_1 = pd.read_csv(\"3D_point_all_frames_Test_220315_TR13_Lidar_comparison_play_1.csv\")\n",
    "\n",
    "data_1 = data_1[['x','y','z']].values\n",
    "# data_1[:,2] = data_1[:,2]*-1 # Inverting the z values for radar\n",
    "\n",
    "print(data_1.shape)"
   ]
  },
  {
   "cell_type": "markdown",
   "id": "ad9b2e4c",
   "metadata": {},
   "source": [
    "## Importing the Lidar Data"
   ]
  },
  {
   "cell_type": "code",
   "execution_count": 11,
   "id": "6b138e2a",
   "metadata": {},
   "outputs": [
    {
     "name": "stdout",
     "output_type": "stream",
     "text": [
      "(22322, 3)\n"
     ]
    }
   ],
   "source": [
    "data_2 = pd.read_csv(\"cloud_2.csv\")\n",
    "data_2 = data_2[['x','y','z']].values\n",
    "\n",
    "print(data_2.shape)"
   ]
  },
  {
   "cell_type": "markdown",
   "id": "0062bcae",
   "metadata": {},
   "source": [
    "### Cleaning Lidar Data"
   ]
  },
  {
   "cell_type": "code",
   "execution_count": 12,
   "id": "778c4ea3",
   "metadata": {},
   "outputs": [
    {
     "name": "stdout",
     "output_type": "stream",
     "text": [
      "(18014, 3)\n"
     ]
    }
   ],
   "source": [
    "k = []\n",
    "\n",
    "max_x = 20\n",
    "max_y = 15\n",
    "max_z = 5\n",
    "\n",
    "\n",
    "for i in range(len(data_2[:,2])):\n",
    "    if data_2[i,0]<max_x and data_2[i,1]<max_y and data_2[i,2]<max_z and data_2[i,0]>-max_x and data_2[i,1]>-max_y and data_2[i,2]>-max_z :\n",
    "        k.append(data_2[i])\n",
    "        \n",
    "        \n",
    "data_2=np.array(k)\n",
    "\n",
    "print(data_2.shape)"
   ]
  },
  {
   "cell_type": "markdown",
   "id": "19bc9825",
   "metadata": {},
   "source": [
    "### Orientation of Radar data to Lidar"
   ]
  },
  {
   "cell_type": "code",
   "execution_count": 13,
   "id": "f0d053da",
   "metadata": {},
   "outputs": [
    {
     "name": "stdout",
     "output_type": "stream",
     "text": [
      "(2094, 3)\n"
     ]
    }
   ],
   "source": [
    "rot_val = 90*(m.pi/180)\n",
    "\n",
    "\n",
    "trans_mat=([m.cos(rot_val),-m.sin(rot_val), 0],\n",
    "          [m.sin(rot_val), m.cos(rot_val), 0],\n",
    "          [0,              0,              1])\n",
    "data_1=np.matmul(data_1, trans_mat)\n",
    "\n",
    "print(data_1.shape)\n",
    "\n",
    "data_1[:,1]=data_1[:,1]+0.25\n",
    "data_1[:,0]=data_1[:,0]-0.10\n",
    "\n"
   ]
  },
  {
   "cell_type": "markdown",
   "id": "4c58a2e9",
   "metadata": {},
   "source": [
    "### Vertical angular transformation"
   ]
  },
  {
   "cell_type": "code",
   "execution_count": 14,
   "id": "dc2cd322",
   "metadata": {},
   "outputs": [],
   "source": [
    "rot_val_z = 1.5*(m.pi/180)\n",
    "\n",
    "\n",
    "trans_mat_z=([1,0, 0],\n",
    "          [0, m.cos(rot_val_z), -m.sin(rot_val_z)],\n",
    "          [0, m.sin(rot_val_z), m.cos(rot_val_z)])\n",
    "data_1=np.matmul(data_1, trans_mat_z)"
   ]
  },
  {
   "cell_type": "markdown",
   "id": "1a6930e3",
   "metadata": {},
   "source": [
    "## Visualizing Data"
   ]
  },
  {
   "cell_type": "code",
   "execution_count": 16,
   "id": "d99c21c8",
   "metadata": {},
   "outputs": [],
   "source": [
    "fig = plt.figure(figsize = (15,15))\n",
    "ax = fig.add_subplot(111, projection='3d')\n",
    "ax.scatter(data_1[:,0],data_1[:,1],data_1[:,2], s = 1 , color = 'blue', label = \"Radar Data\")\n",
    "ax.scatter(data_2[:,0],data_2[:,1],data_2[:,2], s = 1 , color = 'red', label = \"Lidar Data\")\n",
    "ax.set_xlabel('x')\n",
    "ax.set_ylabel('y')\n",
    "ax.set_zlabel('z')\n",
    "ax.legend()\n",
    "plt.show()"
   ]
  },
  {
   "cell_type": "code",
   "execution_count": null,
   "id": "57c6907b",
   "metadata": {},
   "outputs": [],
   "source": []
  }
 ],
 "metadata": {
  "kernelspec": {
   "display_name": "Python 3 (ipykernel)",
   "language": "python",
   "name": "python3"
  },
  "language_info": {
   "codemirror_mode": {
    "name": "ipython",
    "version": 3
   },
   "file_extension": ".py",
   "mimetype": "text/x-python",
   "name": "python",
   "nbconvert_exporter": "python",
   "pygments_lexer": "ipython3",
   "version": "3.9.7"
  }
 },
 "nbformat": 4,
 "nbformat_minor": 5
}
