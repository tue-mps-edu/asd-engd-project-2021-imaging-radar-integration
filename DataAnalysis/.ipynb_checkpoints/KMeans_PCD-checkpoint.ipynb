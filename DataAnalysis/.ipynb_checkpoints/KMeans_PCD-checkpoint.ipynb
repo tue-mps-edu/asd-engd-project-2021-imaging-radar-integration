{
 "cells": [
  {
   "cell_type": "markdown",
   "id": "2c3fbbfc",
   "metadata": {},
   "source": [
    "# Clustering point cloud data from the Imaging Radar\n",
    "\n",
    "This notebook is intended to cluster the point cloud data (PCD) from the imaging radar using the K-Means clustering algorithm. The PCD is recieved from the data acquisition team in the .csv format.\n"
   ]
  },
  {
   "cell_type": "markdown",
   "id": "929a5260",
   "metadata": {},
   "source": [
    "### Importing all the necessary libraries"
   ]
  },
  {
   "cell_type": "code",
   "execution_count": null,
   "id": "9e91a659",
   "metadata": {},
   "outputs": [],
   "source": [
    "import pandas as pd\n",
    "import numpy as np\n",
    "import seaborn as sns\n",
    "import matplotlib.pyplot as plt\n",
    "%matplotlib qt\n",
    "from sklearn.cluster import KMeans"
   ]
  },
  {
   "cell_type": "markdown",
   "id": "8495756c",
   "metadata": {},
   "source": [
    "### Importing the PCD csv file"
   ]
  },
  {
   "cell_type": "code",
   "execution_count": null,
   "id": "6aa3e7e9",
   "metadata": {},
   "outputs": [],
   "source": [
    "data = pd.read_csv(\"PCDSample1.csv\")\n",
    "data.head()\n",
    "\n",
    "x = data[['x','y','z']].values"
   ]
  },
  {
   "cell_type": "markdown",
   "id": "507f61bd",
   "metadata": {},
   "source": [
    "### Estimation of optimal 'K' value using the Elbow rule"
   ]
  },
  {
   "cell_type": "code",
   "execution_count": null,
   "id": "58b38355",
   "metadata": {},
   "outputs": [],
   "source": [
    "WCSS = []\n",
    "\n",
    "for i  in range(1,11):\n",
    "    kmeans_model = KMeans(n_clusters = i, init = 'k-means++')\n",
    "    kmeans_model.fit(x)\n",
    "    WCSS.append(kmeans_model.inertia_)\n",
    "    \n",
    "    \n",
    "fig = plt.figure(figsize = (7,7))\n",
    "plt.plot(range(1,11),WCSS, linewidth=4, markersize=12,marker='o',color = 'red')\n",
    "plt.xticks(np.arange(11))\n",
    "plt.xlabel(\"Number of Clusters\")\n",
    "plt.ylabel(\"WCSS\")\n",
    "plt.show()"
   ]
  },
  {
   "cell_type": "markdown",
   "id": "ad84b38e",
   "metadata": {},
   "source": [
    "## K-Means clustering\n",
    "\n",
    "The number of clusters is initialized and the algorithm is defined."
   ]
  },
  {
   "cell_type": "code",
   "execution_count": null,
   "id": "15ab716b",
   "metadata": {},
   "outputs": [],
   "source": [
    "kmeans_model = KMeans(n_clusters=6, init = \"k-means++\", max_iter = 300, n_init = 10, random_state = 0).fit(x)\n",
    "y_clusters = kmeans_model.fit_predict(x)\n",
    "\n",
    "\n",
    "#check number of clusters and number of points in each cluster\n",
    "sns.countplot(y_clusters)\n",
    "print(x[y_clusters == 0,0][1])\n",
    "print(x[y_clusters == 0,1][1])\n",
    "print(x[y_clusters == 0,2][1])"
   ]
  },
  {
   "cell_type": "markdown",
   "id": "92af3359",
   "metadata": {},
   "source": [
    "### Visualize the clusters"
   ]
  },
  {
   "cell_type": "code",
   "execution_count": null,
   "id": "b432bd62",
   "metadata": {},
   "outputs": [],
   "source": [
    "fig = plt.figure(figsize = (15,15))\n",
    "ax = fig.add_subplot(111, projection='3d')\n",
    "ax.scatter(x[y_clusters == 0,0],x[y_clusters == 0,1],x[y_clusters == 0,2], s = 40 , color = 'blue', label = \"cluster 0\")\n",
    "ax.scatter(x[y_clusters == 1,0],x[y_clusters == 1,1],x[y_clusters == 1,2], s = 40 , color = 'orange', label = \"cluster 1\")\n",
    "ax.scatter(x[y_clusters == 2,0],x[y_clusters == 2,1],x[y_clusters == 2,2], s = 40 , color = 'green', label = \"cluster 2\")\n",
    "ax.scatter(x[y_clusters == 3,0],x[y_clusters == 3,1],x[y_clusters == 3,2], s = 40 , color = 'pink', label = \"cluster 3\")\n",
    "ax.scatter(x[y_clusters == 3,0],x[y_clusters == 3,1],x[y_clusters == 3,2], s = 40 , color = 'black', label = \"cluster 4\")\n",
    "ax.scatter(x[y_clusters == 3,0],x[y_clusters == 3,1],x[y_clusters == 3,2], s = 40 , color = 'red', label = \"cluster 5\")\n",
    "ax.set_xlabel('x')\n",
    "ax.set_ylabel('y')\n",
    "ax.set_zlabel('z')\n",
    "ax.legend()\n",
    "plt.show()"
   ]
  },
  {
   "cell_type": "code",
   "execution_count": null,
   "id": "81c6e196",
   "metadata": {},
   "outputs": [],
   "source": [
    "# fig = plt.figure(figsize = (10, 7))\n",
    "# ax = plt.axes(projection =\"3d\")\n",
    "\n",
    "# my_cmap = plt.get_cmap('hsv')\n",
    "\n",
    "# # Creating plot\n",
    "# # sctt = ax.scatter3D(x, y, z,\n",
    "# #                     c = (x+y+z),\n",
    "# #                     cmap = my_cmap)\n",
    " \n",
    "# ax.scatter(x[y_clusters == 0,0],x[y_clusters == 0,1],x[y_clusters == 0,2], s = 40 , color = 'blue', label = \"cluster 0\")\n",
    "# ax.scatter(x[y_clusters == 1,0],x[y_clusters == 1,1],x[y_clusters == 1,2], s = 40 , color = 'orange', label = \"cluster 1\")\n",
    "# ax.scatter(x[y_clusters == 2,0],x[y_clusters == 2,1],x[y_clusters == 2,2], s = 40 , color = 'green', label = \"cluster 2\")\n",
    "# plt.title(\"simple 3D scatter plot\")\n",
    "\n",
    "# ax.set_xlabel('X-axis', fontweight ='bold')\n",
    "# ax.set_ylabel('Y-axis', fontweight ='bold')\n",
    "# ax.set_zlabel('Z-axis', fontweight ='bold')\n",
    "# fig.colorbar(sctt, ax = ax, shrink = 0.5, aspect = 3)\n",
    " \n",
    "# # show plot\n",
    "# plt.show()\n",
    "\n"
   ]
  },
  {
   "cell_type": "code",
   "execution_count": null,
   "id": "f2aa2773",
   "metadata": {},
   "outputs": [],
   "source": []
  }
 ],
 "metadata": {
  "kernelspec": {
   "display_name": "Python 3 (ipykernel)",
   "language": "python",
   "name": "python3"
  },
  "language_info": {
   "codemirror_mode": {
    "name": "ipython",
    "version": 3
   },
   "file_extension": ".py",
   "mimetype": "text/x-python",
   "name": "python",
   "nbconvert_exporter": "python",
   "pygments_lexer": "ipython3",
   "version": "3.9.7"
  }
 },
 "nbformat": 4,
 "nbformat_minor": 5
}
