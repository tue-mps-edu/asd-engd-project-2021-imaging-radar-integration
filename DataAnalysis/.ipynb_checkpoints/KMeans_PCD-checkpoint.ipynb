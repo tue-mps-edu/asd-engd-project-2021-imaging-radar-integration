{
 "cells": [
  {
   "cell_type": "code",
   "execution_count": 1,
   "id": "8eeaf157",
   "metadata": {},
   "outputs": [],
   "source": [
    "import pandas as pd\n",
    "import numpy as np\n",
    "import seaborn as sns\n",
    "import matplotlib.pyplot as plt\n",
    "%matplotlib qt\n",
    "from sklearn.cluster import KMeans"
   ]
  },
  {
   "cell_type": "code",
   "execution_count": 2,
   "id": "6aa3e7e9",
   "metadata": {},
   "outputs": [],
   "source": [
    "data = pd.read_csv(\"PCDSample1.csv\")\n",
    "data.head()\n",
    "\n",
    "x = data[['x','y','z']].values"
   ]
  },
  {
   "cell_type": "code",
   "execution_count": 3,
   "id": "4544e5e2",
   "metadata": {},
   "outputs": [
    {
     "name": "stderr",
     "output_type": "stream",
     "text": [
      "C:\\Users\\20181051\\Anaconda3\\lib\\site-packages\\sklearn\\cluster\\_kmeans.py:881: UserWarning: KMeans is known to have a memory leak on Windows with MKL, when there are less chunks than available threads. You can avoid it by setting the environment variable OMP_NUM_THREADS=1.\n",
      "  warnings.warn(\n"
     ]
    }
   ],
   "source": [
    "WCSS = []\n",
    "\n",
    "for i  in range(1,11):\n",
    "    kmeans_model = KMeans(n_clusters = i, init = 'k-means++')\n",
    "    kmeans_model.fit(x)\n",
    "    WCSS.append(kmeans_model.inertia_)\n",
    "    \n",
    "    \n",
    "fig = plt.figure(figsize = (7,7))\n",
    "plt.plot(range(1,11),WCSS, linewidth=4, markersize=12,marker='o',color = 'red')\n",
    "plt.xticks(np.arange(11))\n",
    "plt.xlabel(\"Number of Clusters\")\n",
    "plt.ylabel(\"WCSS\")\n",
    "plt.show()"
   ]
  },
  {
   "cell_type": "code",
   "execution_count": 4,
   "id": "ef995e80",
   "metadata": {},
   "outputs": [],
   "source": [
    "# x=data ['x'] \n",
    "# y=data ['y']\n",
    "# z=data ['z']\n",
    "\n",
    "# # Creating figure\n",
    "# fig = plt.figure(figsize = (10, 7))\n",
    "# ax = plt.axes(projection =\"3d\")\n",
    " \n",
    "# # Creating plot\n",
    "# ax.scatter3D(x, y, z, color = \"green\")\n",
    "# plt.title(\"simple 3D scatter plot\")\n",
    " \n",
    "# # show plot\n",
    "# plt.show()"
   ]
  },
  {
   "cell_type": "code",
   "execution_count": 5,
   "id": "15ab716b",
   "metadata": {},
   "outputs": [
    {
     "name": "stdout",
     "output_type": "stream",
     "text": [
      "1.57923374089357\n",
      "0.515522564913424\n",
      "0.0382173770062605\n"
     ]
    },
    {
     "name": "stderr",
     "output_type": "stream",
     "text": [
      "C:\\Users\\20181051\\Anaconda3\\lib\\site-packages\\seaborn\\_decorators.py:36: FutureWarning: Pass the following variable as a keyword arg: x. From version 0.12, the only valid positional argument will be `data`, and passing other arguments without an explicit keyword will result in an error or misinterpretation.\n",
      "  warnings.warn(\n"
     ]
    }
   ],
   "source": [
    "kmeans_model = KMeans(n_clusters=4, init = \"k-means++\", max_iter = 300, n_init = 10, random_state = 0).fit(x)\n",
    "y_clusters = kmeans_model.fit_predict(x)\n",
    "\n",
    "\n",
    "#check number of clusters and number of points in each cluster\n",
    "sns.countplot(y_clusters)\n",
    "print(x[y_clusters == 0,0][1])\n",
    "print(x[y_clusters == 0,1][1])\n",
    "print(x[y_clusters == 0,2][1])"
   ]
  },
  {
   "cell_type": "code",
   "execution_count": 6,
   "id": "b432bd62",
   "metadata": {},
   "outputs": [],
   "source": [
    "fig = plt.figure(figsize = (15,15))\n",
    "ax = fig.add_subplot(111, projection='3d')\n",
    "ax.scatter(x[y_clusters == 0,0],x[y_clusters == 0,1],x[y_clusters == 0,2], s = 40 , color = 'blue', label = \"cluster 0\")\n",
    "ax.scatter(x[y_clusters == 1,0],x[y_clusters == 1,1],x[y_clusters == 1,2], s = 40 , color = 'orange', label = \"cluster 1\")\n",
    "ax.scatter(x[y_clusters == 2,0],x[y_clusters == 2,1],x[y_clusters == 2,2], s = 40 , color = 'green', label = \"cluster 2\")\n",
    "ax.scatter(x[y_clusters == 3,0],x[y_clusters == 3,1],x[y_clusters == 3,2], s = 40 , color = 'pink', label = \"cluster 3\")\n",
    "ax.set_xlabel('x')\n",
    "ax.set_ylabel('y')\n",
    "ax.set_zlabel('z')\n",
    "ax.legend()\n",
    "plt.show()"
   ]
  },
  {
   "cell_type": "code",
   "execution_count": null,
   "id": "81c6e196",
   "metadata": {},
   "outputs": [],
   "source": [
    "# fig = plt.figure(figsize = (10, 7))\n",
    "# ax = plt.axes(projection =\"3d\")\n",
    "\n",
    "# my_cmap = plt.get_cmap('hsv')\n",
    "\n",
    "# # Creating plot\n",
    "# # sctt = ax.scatter3D(x, y, z,\n",
    "# #                     c = (x+y+z),\n",
    "# #                     cmap = my_cmap)\n",
    " \n",
    "# ax.scatter(x[y_clusters == 0,0],x[y_clusters == 0,1],x[y_clusters == 0,2], s = 40 , color = 'blue', label = \"cluster 0\")\n",
    "# ax.scatter(x[y_clusters == 1,0],x[y_clusters == 1,1],x[y_clusters == 1,2], s = 40 , color = 'orange', label = \"cluster 1\")\n",
    "# ax.scatter(x[y_clusters == 2,0],x[y_clusters == 2,1],x[y_clusters == 2,2], s = 40 , color = 'green', label = \"cluster 2\")\n",
    "# plt.title(\"simple 3D scatter plot\")\n",
    "\n",
    "# ax.set_xlabel('X-axis', fontweight ='bold')\n",
    "# ax.set_ylabel('Y-axis', fontweight ='bold')\n",
    "# ax.set_zlabel('Z-axis', fontweight ='bold')\n",
    "# fig.colorbar(sctt, ax = ax, shrink = 0.5, aspect = 3)\n",
    " \n",
    "# # show plot\n",
    "# plt.show()\n",
    "\n"
   ]
  },
  {
   "cell_type": "code",
   "execution_count": null,
   "id": "f2aa2773",
   "metadata": {},
   "outputs": [],
   "source": []
  }
 ],
 "metadata": {
  "kernelspec": {
   "display_name": "Python 3 (ipykernel)",
   "language": "python",
   "name": "python3"
  },
  "language_info": {
   "codemirror_mode": {
    "name": "ipython",
    "version": 3
   },
   "file_extension": ".py",
   "mimetype": "text/x-python",
   "name": "python",
   "nbconvert_exporter": "python",
   "pygments_lexer": "ipython3",
   "version": "3.9.7"
  }
 },
 "nbformat": 4,
 "nbformat_minor": 5
}
