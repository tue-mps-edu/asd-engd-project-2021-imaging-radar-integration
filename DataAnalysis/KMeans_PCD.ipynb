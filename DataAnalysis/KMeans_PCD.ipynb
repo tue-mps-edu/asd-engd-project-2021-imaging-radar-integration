{
 "cells": [
  {
   "cell_type": "markdown",
   "id": "2c3fbbfc",
   "metadata": {},
   "source": [
    "# Clustering point cloud data from the Imaging Radar\n",
    "\n",
    "This notebook is intended to cluster the point cloud data (PCD) from the imaging radar using the K-Means clustering algorithm. The PCD is recieved from the data acquisition team in the .csv format.\n"
   ]
  },
  {
   "cell_type": "markdown",
   "id": "929a5260",
   "metadata": {},
   "source": [
    "### Importing all the necessary libraries"
   ]
  },
  {
   "cell_type": "code",
   "execution_count": null,
   "id": "9e91a659",
   "metadata": {},
   "outputs": [],
   "source": [
    "import pandas as pd\n",
    "import numpy as np\n",
    "import seaborn as sns\n",
    "import matplotlib.pyplot as plt\n",
    "%matplotlib qt\n",
    "from sklearn.cluster import KMeans"
   ]
  },
  {
   "cell_type": "markdown",
   "id": "8495756c",
   "metadata": {},
   "source": [
    "### Importing the PCD csv file"
   ]
  },
  {
   "cell_type": "code",
   "execution_count": null,
   "id": "6aa3e7e9",
   "metadata": {},
   "outputs": [],
   "source": [
    "data = pd.read_csv(\"PCDSample3_mergedframes.csv\")\n",
    "data.head()\n",
    "\n",
    "x = data[['x','y','z']].values\n",
    "H = 0.5 #Height of the sensor from the ground\n",
    "x[:,2] = x[:,2]*-1\n",
    "# #print(x[:,2])\n",
    "# #print(len(x[:,2]))\n",
    "# #print(x.shape)\n",
    "# print(x)\n",
    "#x"
   ]
  },
  {
   "cell_type": "code",
   "execution_count": null,
   "id": "ae2b24b1",
   "metadata": {},
   "outputs": [],
   "source": [
    "#data_filtered = data[data['z']>0.5]\n",
    "#data_filtered = data['z']\n",
    "#data_filtered\n",
    "#data_filtered.shape\n",
    "\n",
    "#Because the 'z' takes data from the previous version before multiplying it with -1"
   ]
  },
  {
   "cell_type": "markdown",
   "id": "e0d7946d",
   "metadata": {},
   "source": [
    "### Data cleaning\n",
    "\n",
    "The data points below the level of sensor are eliminated and a new array of co-ordinates are stored in array 'kk'"
   ]
  },
  {
   "cell_type": "code",
   "execution_count": null,
   "id": "0bc7d6f0",
   "metadata": {},
   "outputs": [],
   "source": [
    "k = []\n",
    "\n",
    "for i in range(len(x[:,2])):\n",
    "    if x[i,2]>H:\n",
    "        k.append(x[i])\n",
    "        #y = np.asarray(k, dtype=np.float32)\n",
    "kk=np.array(k)        \n",
    "#print(x[:,2])\n",
    "#print(len(x[:,2]))\n",
    "print(kk)\n",
    "print(len(kk))\n",
    "print(kk.shape)"
   ]
  },
  {
   "cell_type": "code",
   "execution_count": null,
   "id": "686f9ef3",
   "metadata": {},
   "outputs": [],
   "source": [
    "#y=[]\n",
    "#for i in range(len(x[:,2])):\n",
    "    #if x[i,2]<0:\n",
    "       # y[i]=np.delete(x,i,0)\n",
    "#print(y)\n",
    "#print(len(y))"
   ]
  },
  {
   "cell_type": "markdown",
   "id": "507f61bd",
   "metadata": {},
   "source": [
    "### Estimation of optimal 'K' value using the Elbow rule"
   ]
  },
  {
   "cell_type": "code",
   "execution_count": null,
   "id": "58b38355",
   "metadata": {},
   "outputs": [],
   "source": [
    "WCSS = []\n",
    "\n",
    "for i  in range(1,11):\n",
    "    kmeans_model = KMeans(n_clusters = i, init = 'k-means++')\n",
    "    kmeans_model.fit(kk)\n",
    "    WCSS.append(kmeans_model.inertia_)\n",
    "    \n",
    "    \n",
    "fig = plt.figure(figsize = (7,7))\n",
    "plt.plot(range(1,11),WCSS, linewidth=4, markersize=12,marker='o',color = 'red')\n",
    "plt.xticks(np.arange(11))\n",
    "plt.xlabel(\"Number of Clusters\")\n",
    "plt.ylabel(\"WCSS\")\n",
    "plt.show()"
   ]
  },
  {
   "cell_type": "markdown",
   "id": "ad84b38e",
   "metadata": {},
   "source": [
    "## K-Means clustering\n",
    "\n",
    "The number of clusters is initialized and the algorithm is defined."
   ]
  },
  {
   "cell_type": "code",
   "execution_count": null,
   "id": "15ab716b",
   "metadata": {},
   "outputs": [],
   "source": [
    "kmeans_model = KMeans(n_clusters=3, init = \"k-means++\", max_iter = 300, n_init = 10, random_state = 0).fit(kk)\n",
    "y_clusters = kmeans_model.fit_predict(kk)\n",
    "\n",
    "\n",
    "#check number of clusters and number of points in each cluster\n",
    "sns.countplot(y_clusters)\n",
    "print(kk[y_clusters == 0,0][1])\n",
    "print(kk[y_clusters == 0,1][1])\n",
    "print(kk[y_clusters == 0,2][1])"
   ]
  },
  {
   "cell_type": "markdown",
   "id": "92af3359",
   "metadata": {},
   "source": [
    "### Visualize the clusters"
   ]
  },
  {
   "cell_type": "code",
   "execution_count": null,
   "id": "b432bd62",
   "metadata": {},
   "outputs": [],
   "source": [
    "fig = plt.figure(figsize = (15,15))\n",
    "ax = fig.add_subplot(111, projection='3d')\n",
    "ax.scatter(kk[y_clusters == 0,0],kk[y_clusters == 0,1],kk[y_clusters == 0,2], s = 40 , color = 'blue', label = \"cluster 0\")\n",
    "ax.scatter(kk[y_clusters == 1,0],kk[y_clusters == 1,1],kk[y_clusters == 1,2], s = 40 , color = 'orange', label = \"cluster 1\")\n",
    "ax.scatter(kk[y_clusters == 2,0],kk[y_clusters == 2,1],kk[y_clusters == 2,2], s = 40 , color = 'green', label = \"cluster 2\")\n",
    "#ax.scatter(x[y_clusters == 3,0],x[y_clusters == 3,1],x[y_clusters == 3,2], s = 40 , color = 'brown', label = \"cluster 3\")\n",
    "#ax.scatter(x[y_clusters == 4,0],x[y_clusters == 4,1],x[y_clusters == 4,2], s = 40 , color = 'black', label = \"cluster 4\")\n",
    "#ax.scatter(x[y_clusters == 5,0],x[y_clusters == 5,1],x[y_clusters == 5,2], s = 40 , color = 'red', label = \"cluster 5\")\n",
    "ax.set_xlabel('x')\n",
    "ax.set_ylabel('y')\n",
    "ax.set_zlabel('z')\n",
    "ax.legend()\n",
    "plt.show()"
   ]
  },
  {
   "cell_type": "code",
   "execution_count": null,
   "id": "30df4482",
   "metadata": {},
   "outputs": [],
   "source": []
  }
 ],
 "metadata": {
  "kernelspec": {
   "display_name": "Python 3 (ipykernel)",
   "language": "python",
   "name": "python3"
  },
  "language_info": {
   "codemirror_mode": {
    "name": "ipython",
    "version": 3
   },
   "file_extension": ".py",
   "mimetype": "text/x-python",
   "name": "python",
   "nbconvert_exporter": "python",
   "pygments_lexer": "ipython3",
   "version": "3.9.7"
  }
 },
 "nbformat": 4,
 "nbformat_minor": 5
}
