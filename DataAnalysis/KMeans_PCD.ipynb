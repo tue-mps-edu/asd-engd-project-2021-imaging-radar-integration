{
 "cells": [
  {
   "cell_type": "markdown",
   "id": "2c3fbbfc",
   "metadata": {},
   "source": [
    "# Clustering point cloud data from the Imaging Radar\n",
    "\n",
    "This notebook is intended to cluster the point cloud data (PCD) from the imaging radar using the K-Means clustering algorithm. The PCD is received from the data acquisition team in the .csv format.\n"
   ]
  },
  {
   "cell_type": "markdown",
   "id": "929a5260",
   "metadata": {},
   "source": [
    "### Importing all the necessary libraries"
   ]
  },
  {
   "cell_type": "code",
   "execution_count": 1,
   "id": "9e91a659",
   "metadata": {},
   "outputs": [],
   "source": [
    "import pandas as pd\n",
    "import numpy as np\n",
    "import seaborn as sns\n",
    "import matplotlib.pyplot as plt\n",
    "import math as m\n",
    "%matplotlib qt\n",
    "from sklearn.cluster import KMeans"
   ]
  },
  {
   "cell_type": "markdown",
   "id": "8495756c",
   "metadata": {},
   "source": [
    "### Importing the PCD of Radar\n",
    "\n",
    "Download the .csv file from the shared OneDrive folder and save it in the same folder as the Git repository. The csv file is loaded in the next code block."
   ]
  },
  {
   "cell_type": "code",
   "execution_count": 2,
   "id": "6aa3e7e9",
   "metadata": {},
   "outputs": [
    {
     "name": "stdout",
     "output_type": "stream",
     "text": [
      "(2094, 3)\n"
     ]
    }
   ],
   "source": [
    "data = pd.read_csv(\"3D_point_all_frames_Test_220315_TR13_Lidar_comparison_play_1.csv\")\n",
    "data.head()\n",
    "\n",
    "data_rad = data[['x','y','z']].values\n",
    "\n",
    "data_rad[:,2] = data_rad[:,2]*-1                      # Reversing orientation of Z\n",
    "\n",
    "print(data_rad.shape)\n",
    "\n"
   ]
  },
  {
   "cell_type": "markdown",
   "id": "ae10725c",
   "metadata": {},
   "source": [
    "### Cleaning Radar data"
   ]
  },
  {
   "cell_type": "code",
   "execution_count": 3,
   "id": "23590490",
   "metadata": {},
   "outputs": [
    {
     "name": "stdout",
     "output_type": "stream",
     "text": [
      "(1469, 3)\n"
     ]
    }
   ],
   "source": [
    "k = []\n",
    "\n",
    "H = -0.5                             #Height of the sensor from the ground\n",
    "max_y = 10                            # Distance of 7 people from the radar\n",
    "max_z = 1.5                          # Height of 7 people (0.5+1.5m = 2m from the ground)\n",
    "for i in range(len(data_rad[:,2])):\n",
    "    if data_rad[i,2]>H and data_rad[i,1]<max_y and data_rad[i,2]<max_z and data_rad[i,0]<4:\n",
    "        k.append(data_rad[i])\n",
    "        \n",
    "data_rad=np.array(k)\n",
    "\n",
    "\n",
    "print(data_rad.shape)"
   ]
  },
  {
   "cell_type": "markdown",
   "id": "21203152",
   "metadata": {},
   "source": [
    "### Importing Lidar Data"
   ]
  },
  {
   "cell_type": "code",
   "execution_count": 4,
   "id": "4c4d6e97",
   "metadata": {},
   "outputs": [
    {
     "name": "stdout",
     "output_type": "stream",
     "text": [
      "(22322, 3)\n"
     ]
    }
   ],
   "source": [
    "data_lid = pd.read_csv(\"cloud_2.csv\")\n",
    "data_lid = data_lid[['x','y','z']].values\n",
    "print(data_lid.shape)"
   ]
  },
  {
   "cell_type": "markdown",
   "id": "077a4340",
   "metadata": {},
   "source": [
    "### Cleaning Lidar Data"
   ]
  },
  {
   "cell_type": "code",
   "execution_count": 5,
   "id": "f4e316e0",
   "metadata": {},
   "outputs": [
    {
     "name": "stdout",
     "output_type": "stream",
     "text": [
      "(17768, 3)\n"
     ]
    }
   ],
   "source": [
    "lidar = []\n",
    "\n",
    "\n",
    "# Lidar data is scaled to focus on the 7 objects\n",
    "max_x = 20 \n",
    "max_y = 7.5\n",
    "max_z = 5\n",
    "\n",
    "\n",
    "for i in range(len(data_lid[:,2])):\n",
    "    if data_lid[i,0]<max_x and data_lid[i,1]<max_y and data_lid[i,2]<max_z and data_lid[i,0]>-max_x and data_lid[i,1]>-max_y and data_lid[i,2]>-max_z:\n",
    "        lidar.append(data_lid[i])\n",
    "        \n",
    "        \n",
    "data_lid=np.array(lidar)\n",
    "\n",
    "print(data_lid.shape)"
   ]
  },
  {
   "cell_type": "markdown",
   "id": "507f61bd",
   "metadata": {},
   "source": [
    "### Estimation of optimal 'K' value using the Elbow rule for radar data\n",
    "\n",
    "The elbow curve is visualised. The optimal value of K is at the point when the curve starts to straighten out. "
   ]
  },
  {
   "cell_type": "code",
   "execution_count": 6,
   "id": "58b38355",
   "metadata": {},
   "outputs": [
    {
     "name": "stderr",
     "output_type": "stream",
     "text": [
      "C:\\Users\\20181051\\Anaconda3\\lib\\site-packages\\sklearn\\cluster\\_kmeans.py:881: UserWarning: KMeans is known to have a memory leak on Windows with MKL, when there are less chunks than available threads. You can avoid it by setting the environment variable OMP_NUM_THREADS=6.\n",
      "  warnings.warn(\n"
     ]
    }
   ],
   "source": [
    "WCSS = []\n",
    "\n",
    "for i  in range(1,15):\n",
    "    kmeans_model = KMeans(n_clusters = i, init = 'k-means++')\n",
    "    kmeans_model.fit(data_rad)\n",
    "    WCSS.append(kmeans_model.inertia_)\n",
    "    \n",
    "    \n",
    "fig = plt.figure(figsize = (7,7))\n",
    "plt.plot(range(1,15),WCSS, linewidth=4, markersize=12,marker='o',color = 'red')\n",
    "plt.xticks(np.arange(15))\n",
    "plt.xlabel(\"Number of Clusters\")\n",
    "plt.ylabel(\"WCSS\")\n",
    "plt.show()"
   ]
  },
  {
   "cell_type": "markdown",
   "id": "ad84b38e",
   "metadata": {},
   "source": [
    "## K-Means clustering\n",
    "\n",
    "The number of clusters is initialized and the algorithm is defined. The number of points in each cluster are plotted."
   ]
  },
  {
   "cell_type": "code",
   "execution_count": 7,
   "id": "15ab716b",
   "metadata": {},
   "outputs": [
    {
     "name": "stderr",
     "output_type": "stream",
     "text": [
      "C:\\Users\\20181051\\Anaconda3\\lib\\site-packages\\seaborn\\_decorators.py:36: FutureWarning: Pass the following variable as a keyword arg: x. From version 0.12, the only valid positional argument will be `data`, and passing other arguments without an explicit keyword will result in an error or misinterpretation.\n",
      "  warnings.warn(\n"
     ]
    }
   ],
   "source": [
    "kmeans_model = KMeans(n_clusters=9, init = \"k-means++\", max_iter = 300, n_init = 10, random_state = 0).fit(data_rad)\n",
    "radar_clusters = kmeans_model.fit_predict(data_rad)\n",
    "\n",
    "\n",
    "#check number of clusters and number of points in each cluster\n",
    "plt.figure(2)\n",
    "sns.countplot(radar_clusters)\n",
    "plt.show()"
   ]
  },
  {
   "cell_type": "markdown",
   "id": "438a44d1",
   "metadata": {},
   "source": [
    "### Orientation of Radar data to Lidar\n",
    "\n",
    "To align the axes of the radar and the lidar, the radar data is rotated by a 90 degrees wrt to the z-axis (xy-plane). This means the x-axis of the radar will be transformed to be aligned with the y-axis of the radar. The new axis for radar data has x and y axes interchanged. The distance between the radar and lidar was x = 0.10m and y= 0.25m. The radar data is also transformed 1.5 degrees to correct tilt.\n"
   ]
  },
  {
   "cell_type": "code",
   "execution_count": 8,
   "id": "fbdff314",
   "metadata": {},
   "outputs": [
    {
     "name": "stdout",
     "output_type": "stream",
     "text": [
      "(1469, 3)\n"
     ]
    }
   ],
   "source": [
    "rot_val = 90*(m.pi/180)\n",
    "\n",
    "\n",
    "trans_mat=([m.cos(rot_val),-m.sin(rot_val), 0],\n",
    "          [m.sin(rot_val), m.cos(rot_val), 0],\n",
    "          [0,              0,              1])\n",
    "data_rad=np.matmul(data_rad, trans_mat)\n",
    "\n",
    "print(data_rad.shape)\n",
    "data_rad[:,1]=data_rad[:,1]+0.25\n",
    "data_rad[:,0]=data_rad[:,0]-0.10\n",
    "\n",
    "\n",
    "rot_val_z = 1.5*(m.pi/180)\n",
    "\n",
    "\n",
    "trans_mat_z=([1,0, 0],\n",
    "          [0, m.cos(rot_val_z), -m.sin(rot_val_z)],\n",
    "          [0, m.sin(rot_val_z), m.cos(rot_val_z)])\n",
    "data_rad=np.matmul(data_rad, trans_mat_z)\n"
   ]
  },
  {
   "cell_type": "markdown",
   "id": "92af3359",
   "metadata": {},
   "source": [
    "### Visualize the data\n",
    "\n",
    "The clustered radar data is visualized along with the lidar data."
   ]
  },
  {
   "cell_type": "code",
   "execution_count": 9,
   "id": "b432bd62",
   "metadata": {},
   "outputs": [],
   "source": [
    "fig = plt.figure(figsize = (15,15))\n",
    "ax = fig.add_subplot(111, projection='3d')\n",
    "ax.scatter(data_rad[radar_clusters == 0,0],data_rad[radar_clusters == 0,1],data_rad[radar_clusters == 0,2], s = 5 , color = 'orange', label = \"Jose\")\n",
    "ax.scatter(data_rad[radar_clusters == 1,0],data_rad[radar_clusters == 1,1],data_rad[radar_clusters == 1,2], s = 5 , color = 'red', label = \"Lijo\")\n",
    "ax.scatter(data_rad[radar_clusters == 2,0],data_rad[radar_clusters == 2,1],data_rad[radar_clusters == 2,2], s = 5 , color = 'green', label = \"Raj\")\n",
    "ax.scatter(data_rad[radar_clusters == 3,0],data_rad[radar_clusters == 3,1],data_rad[radar_clusters == 3,2], s = 5 , color = 'orange', label = \"Lijo\")\n",
    "ax.scatter(data_rad[radar_clusters == 4,0],data_rad[radar_clusters == 4,1],data_rad[radar_clusters == 4,2], s = 5 , color = 'cyan', label = \"Prabhat\")\n",
    "ax.scatter(data_rad[radar_clusters == 5,0],data_rad[radar_clusters == 5,1],data_rad[radar_clusters == 5,2], s = 5 , color = 'purple', label = \"Prabhat\")\n",
    "ax.scatter(data_rad[radar_clusters == 6,0],data_rad[radar_clusters == 6,1],data_rad[radar_clusters == 6,2], s = 5 , color = 'pink', label = \"Henry\")\n",
    "ax.scatter(data_rad[radar_clusters == 7,0],data_rad[radar_clusters == 7,1],data_rad[radar_clusters == 7,2], s = 5 , color = 'purple',label = \"Federico\")\n",
    "ax.scatter(data_rad[radar_clusters == 8,0],data_rad[radar_clusters == 8,1],data_rad[radar_clusters == 8,2], s = 5 , color = 'blue', label = \"Ani\")\n",
    "ax.scatter(data_lid[:,0],data_lid[:,1],data_lid[:,2], s = 1 , color = 'grey', label = \"Lidar Data\")\n",
    "ax.set_xlabel('x')\n",
    "ax.set_ylabel('y')\n",
    "ax.set_zlabel('z')\n",
    "ax.legend()\n",
    "plt.show()"
   ]
  },
  {
   "cell_type": "code",
   "execution_count": null,
   "id": "11c351ef",
   "metadata": {},
   "outputs": [],
   "source": []
  }
 ],
 "metadata": {
  "kernelspec": {
   "display_name": "Python 3 (ipykernel)",
   "language": "python",
   "name": "python3"
  },
  "language_info": {
   "codemirror_mode": {
    "name": "ipython",
    "version": 3
   },
   "file_extension": ".py",
   "mimetype": "text/x-python",
   "name": "python",
   "nbconvert_exporter": "python",
   "pygments_lexer": "ipython3",
   "version": "3.9.7"
  }
 },
 "nbformat": 4,
 "nbformat_minor": 5
}
